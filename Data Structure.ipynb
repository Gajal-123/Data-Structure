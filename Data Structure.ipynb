{
 "cells": [
  {
   "cell_type": "markdown",
   "id": "d2a5e278-fd64-4b4a-9e0b-f38edcecd582",
   "metadata": {},
   "source": [
    "1. What are data structures, and why are they important?\n",
    "   - Data structures are just ways of organizing and storing data so that we can use it more efficiently. Imagine trying to find a book in a messy room versus a neatly organized bookshelf — the bookshelf is like a data structure; it helps you find what you need faster and more easily.\n",
    "\n",
    "They're important because they help computers handle data in smarter ways. Whether it’s searching for something, sorting items, or managing big chunks of information, choosing the right data structure makes the job quicker and smoother. It’s like using the right tool for a task."
   ]
  },
  {
   "cell_type": "markdown",
   "id": "a9ed9c6a-f399-4645-8cbf-84ab1b45da72",
   "metadata": {},
   "source": [
    "2. Explain the difference between mutable and immutable data types with examples? \n",
    "   - Mutable means changeable. You can modify the content without changing the object itself.\n",
    "For example, think of a list in Python:"
   ]
  },
  {
   "cell_type": "code",
   "execution_count": 2,
   "id": "553213a7-3b26-46d2-8bb6-485105d5f07d",
   "metadata": {},
   "outputs": [],
   "source": [
    "my_list = [1, 2, 3]\n",
    "my_list.append(4)\n",
    "#Here, we’re adding a new number to the list. We didn’t create a new list—we just changed the existing one.\n",
    "#So, lists are mutable."
   ]
  },
  {
   "cell_type": "code",
   "execution_count": 4,
   "id": "f7ca9a84-fe06-4254-a6b5-95d5d71881d0",
   "metadata": {},
   "outputs": [
    {
     "data": {
      "text/plain": [
       "[1, 2, 3, 4]"
      ]
     },
     "execution_count": 4,
     "metadata": {},
     "output_type": "execute_result"
    }
   ],
   "source": [
    "my_list"
   ]
  },
  {
   "cell_type": "markdown",
   "id": "c7c20df2-7420-4f48-bdc8-ef3472aed160",
   "metadata": {},
   "source": [
    "On the other hand, immutable means unchangeable. Once it’s created, you can’t modify it. Take a string for example:"
   ]
  },
  {
   "cell_type": "code",
   "execution_count": null,
   "id": "2f6b9f47-627d-4595-a256-fb394658ff05",
   "metadata": {},
   "outputs": [],
   "source": [
    "my_str = \"hello\"\n",
    "my_str[0] = \"H\" \n",
    "# This will give an error\n",
    "#If you try to change even one letter, Python freaks out. You’d have to create a new string entirely if you wanted to modify it.\n",
    "\n",
    "So basically, mutables like lists are like notebooks—you can scribble in them anytime. Immutables like strings or tuples are more like printed books—once printed, the words don’t change unless you make a whole new version."
   ]
  },
  {
   "cell_type": "markdown",
   "id": "eefd6b0a-b72d-4336-b35f-84054c61968f",
   "metadata": {},
   "source": [
    "3. What are the main differences between lists and tuples in Python?\n",
    "   - In Python, lists and tuples are both ways to store a bunch of items in a single variable, kind of like containers. The biggest difference between them is that lists can be changed, while tuples can’t. That’s it in a nutshell.\n",
    "\n",
    "a. Mutability\n",
    "Lists are like notebooks — you can add, remove, or change stuff inside.\n",
    "\n",
    "Tuples are like printed books — once they’re made, you can’t really edit them."
   ]
  },
  {
   "cell_type": "code",
   "execution_count": null,
   "id": "6d3d9ff4-c4da-40d4-ac7c-f8dda503deb9",
   "metadata": {},
   "outputs": [],
   "source": [
    "my_list = [1, 2, 3]\n",
    "my_list[0] = 99     # Totally fine\n",
    "print(my_list)      # Output: [99, 2, 3]\n",
    "\n",
    "my_tuple = (1, 2, 3)\n",
    "# my_tuple[0] = 99  # This will throw an error if you try\n"
   ]
  },
  {
   "cell_type": "markdown",
   "id": "6b9101d8-c2f3-4f64-ba62-a9bbff116116",
   "metadata": {},
   "source": [
    "b. Brackets\n",
    "Lists use square brackets: [ ]\n",
    "\n",
    "Tuples use round ones: ( )"
   ]
  },
  {
   "cell_type": "code",
   "execution_count": null,
   "id": "78c8e13a-5524-461d-8c3d-d8c1675944c4",
   "metadata": {},
   "outputs": [],
   "source": [
    "shopping_list = [\"milk\", \"eggs\", \"bread\"]   # This is a list\n",
    "coordinates = (10.5, 20.6)                  # This is a tuple"
   ]
  },
  {
   "cell_type": "markdown",
   "id": "74694c93-88ad-4e4e-8d31-d8467d8dacf0",
   "metadata": {},
   "source": [
    "c. Use Cases\n",
    "Use a list when you might need to update the data later (like a to-do list).\n",
    "Use a tuple when the data should stay fixed (like latitude and longitude coordinates).\n",
    "\n",
    "d. Performance\n",
    "Tuples are a bit faster and use slightly less memory. So for big projects or large datasets where the values won’t change, people prefer tuples.\n",
    "\n",
    "#So yeah, in short: if you need something flexible, go with a list. If you want something solid and unchangeable, go with a tuple. That's really the main difference."
   ]
  },
  {
   "cell_type": "markdown",
   "id": "d0a8b42d-0c51-4ff7-a337-f3a22b41101a",
   "metadata": {},
   "source": [
    "4. Describe how dictionaries store data?\n",
    "   -Dictionaries in Python store data as key-value pairs. Each key maps to a specific value, and you use the key to retrieve or update the value.\n",
    "\n",
    "Internally, dictionaries use a hash table:\n",
    "Hashing: When you add a key, Python computes its hash value using the built-in hash() function.\n",
    "\n",
    "Indexing: The hash value determines an index in an internal array (bucket).\n",
    "\n",
    "Storage: The key-value pair is stored at that index."
   ]
  },
  {
   "cell_type": "code",
   "execution_count": null,
   "id": "17be50b7-6b8f-452f-8549-f34de131db82",
   "metadata": {},
   "outputs": [],
   "source": [
    "my_dict = {\"name\": \"Alice\", \"age\": 30}"
   ]
  },
  {
   "cell_type": "markdown",
   "id": "afb4fa22-9e29-4ba1-a8c2-2cec7d24314c",
   "metadata": {},
   "source": [
    "\"name\" and \"age\" are keys.\n",
    "\"Alice\" and 30 are their corresponding values.\n",
    "\n",
    "#Important points:\n",
    "Keys must be immutable (like strings, numbers, tuples).\n",
    "\n",
    "Values can be any data type.\n",
    "\n",
    "Dictionary lookup is fast because of hashing—typically O(1) time complexity."
   ]
  },
  {
   "cell_type": "markdown",
   "id": "b33d4fcb-7d28-4cf9-bd0d-f3a6d7e193c7",
   "metadata": {},
   "source": [
    "5. Why might you use a set instead of a list in Python?\n",
    "   -Sometimes, when you're working with data in Python, you just want to make sure there are no duplicates. That’s one of the main reasons I’d go for a set instead of a list. Sets automatically toss out any repeated values without you having to manually check for them.\n",
    "\n",
    "For example, say I have a bunch of usernames that got submitted through a form:"
   ]
  },
  {
   "cell_type": "code",
   "execution_count": 6,
   "id": "8eed8832-c068-4867-8499-f88c022ed821",
   "metadata": {},
   "outputs": [],
   "source": [
    "usernames = [\"alex\", \"maria\", \"alex\", \"john\", \"maria\"]\n",
    "unique_usernames = set(usernames)\n",
    "#Now, unique_usernames will just be {\"alex\", \"maria\", \"john\"} — no duplicates, super clean."
   ]
  },
  {
   "cell_type": "code",
   "execution_count": 10,
   "id": "ad84da39-0840-4560-9bf2-edb5f10d790b",
   "metadata": {},
   "outputs": [
    {
     "data": {
      "text/plain": [
       "{'alex', 'john', 'maria'}"
      ]
     },
     "execution_count": 10,
     "metadata": {},
     "output_type": "execute_result"
    }
   ],
   "source": [
    "unique_usernames"
   ]
  },
  {
   "cell_type": "markdown",
   "id": "e3ff02f0-fb31-490e-bcad-ea06caf890d7",
   "metadata": {},
   "source": [
    "Another reason is speed. If I want to check whether something exists in a collection, sets are just faster at that.\n",
    "Like:"
   ]
  },
  {
   "cell_type": "code",
   "execution_count": null,
   "id": "271139e7-f8bf-499e-ac64-0164ddf4f64f",
   "metadata": {},
   "outputs": [],
   "source": [
    "banned_users = {\"bot123\", \"troll99\", \"spammer\"}\n",
    "if \"bot123\" in banned_users:\n",
    "    print(\"Access denied.\")\n",
    "\n",
    "#This lookup is way quicker than doing the same thing with a list, especially if you’ve got a big pile of data."
   ]
  },
  {
   "cell_type": "markdown",
   "id": "5d2a5fd0-f7a7-4496-b877-a052ecc150f1",
   "metadata": {},
   "source": [
    "One more situation: if I ever need to do stuff like finding common items or differences between groups, sets make it super easy:"
   ]
  },
  {
   "cell_type": "code",
   "execution_count": null,
   "id": "e1bdafcf-a6ff-4cf1-89ea-7d6d6ae3dd3c",
   "metadata": {},
   "outputs": [],
   "source": [
    "liked_by_user1 = {\"apple\", \"banana\", \"cherry\"}\n",
    "liked_by_user2 = {\"banana\", \"cherry\", \"date\"}\n",
    "\n",
    "common = liked_by_user1 & liked_by_user2  # intersection\n",
    "print(common)  # {'banana', 'cherry'}\n",
    "\n",
    "#So yeah, whenever I care about uniqueness, quick lookups, or comparing two groups of stuff, sets just feel more natural to use than lists"
   ]
  },
  {
   "cell_type": "markdown",
   "id": "90546431-86e1-408b-bb55-1b98d2bd32e8",
   "metadata": {},
   "source": [
    "6. What is a string in Python, and how is it different from a list?\n",
    "   - In Python, a string is a sequence of characters used to represent text. You define a string by enclosing characters in single quotes '...' or double quotes \"...\".\n",
    "   - for example,"
   ]
  },
  {
   "cell_type": "code",
   "execution_count": null,
   "id": "cf26c796-777c-4d49-afea-89ec0555b7b4",
   "metadata": {},
   "outputs": [],
   "source": [
    "name = \"Alice\""
   ]
  },
  {
   "cell_type": "markdown",
   "id": "d40479af-9b93-41ab-bd19-a8582705764d",
   "metadata": {},
   "source": [
    "A list, on the other hand, is a collection of items (which can be of any data type) enclosed in square brackets [...]. For example:"
   ]
  },
  {
   "cell_type": "code",
   "execution_count": null,
   "id": "82e91a21-a76d-4f6c-85aa-a021e83b96f7",
   "metadata": {},
   "outputs": [],
   "source": [
    "fruits = [\"apple\", \"banana\", \"cherry\"]"
   ]
  },
  {
   "cell_type": "code",
   "execution_count": null,
   "id": "2a593df3-b742-4f62-8baa-13030957c0b8",
   "metadata": {},
   "outputs": [],
   "source": [
    "#Key difference\n",
    "\n",
    "s = \"hello\"\n",
    "l = [\"h\", \"e\", \"l\", \"l\", \"o\"]\n",
    "\n",
    "print(s[1])  # prints 'e'\n",
    "print(l[1])  # also prints 'e'\n",
    "\n",
    "s[1] = \"a\"   # Error: strings are immutable\n",
    "l[1] = \"a\"   # Works: list becomes ['h', 'e', 'l', 'l', 'o']"
   ]
  },
  {
   "cell_type": "markdown",
   "id": "1447097b-c9e0-40ad-9639-7f03bec87d9c",
   "metadata": {},
   "source": [
    "7. How do tuples ensure data integrity in Python?\n",
    "   -Tuples help keep data safe in Python by making sure once you create them, you can't accidentally change them. It's like writing something in pen instead of pencil—once it's written, it's set. So if you store a bunch of values in a tuple, they stay the same unless you purposely make a new one. This is handy when you want to lock in some data and make sure it doesn't get messed with while your code runs."
   ]
  },
  {
   "cell_type": "markdown",
   "id": "a8787293-d91e-4707-9709-d8eb19919f3b",
   "metadata": {},
   "source": [
    "8. What is a hash table, and how does it relate to dictionaries in Python?\n",
    "   - A hash table is basically a smart way of storing and finding data quickly. You can think of it like a super organized set of labeled boxes. Each piece of data gets a unique label, and that label tells the system exactly which box to check or place the data in—so there’s no need to look through everything.\n",
    "\n",
    "Now in Python, the thing we commonly use that’s built on top of this idea is a dictionary. A dictionary lets you store values along with keys, kind of like how a real dictionary has words (keys) and their definitions (values). Behind the scenes, Python uses a hash table to keep everything fast and efficient. So when you ask for a value using a key, Python doesn’t have to search through everything—it just jumps straight to the right place using that “hash” trick.\n",
    "\n",
    "It’s all happening in the background, so as a user, you just get this clean, simple tool to store and look things up fast."
   ]
  },
  {
   "cell_type": "markdown",
   "id": "982f87b7-e139-4252-851f-d7321a455bea",
   "metadata": {},
   "source": [
    "9. Can lists contain different data types in Python?\n",
    "    -Python lists can hold different types of data all in one place, and that’s actually one of the cool things about them.\n",
    "\n",
    "Think of a list like a box where you can throw in all sorts of stuff—numbers, text, even other lists or custom objects—and Python won’t complain. This is possible because Python is a dynamically typed language, meaning it doesn't require you to declare data types explicitly."
   ]
  },
  {
   "cell_type": "code",
   "execution_count": null,
   "id": "dd8b2cf9-827d-43a3-bbc9-ededfcb0a854",
   "metadata": {},
   "outputs": [],
   "source": [
    "#Example -\n",
    "\n",
    "# A simple list with mixed data types\n",
    "mixed_list = [25, \"hello\", 3.14, True]\n",
    "\n",
    "# Accessing elements\n",
    "print(mixed_list[1])  # Output: hello\n",
    "\n",
    "# Another example with even more variety\n",
    "another_list = [\"apple\", 42, [1, 2, 3], {\"key\": \"value\"}, None]\n",
    "\n",
    "\n",
    "#In the second example, you've got:\n",
    "\n",
    "a string\n",
    "\n",
    "an integer\n",
    "\n",
    "a list\n",
    "\n",
    "a dictionary\n",
    "\n",
    "and None (which represents \"nothing\" or \"no value\")\n",
    "\n",
    "All peacefully coexisting in one list.\n",
    "\n",
    "So yes, lists in Python are super flexible. They’re kind of like that one friend who gets along with everyone—doesn’t matter who shows up, the list will make room."
   ]
  },
  {
   "cell_type": "markdown",
   "id": "ec4c0ce8-98f3-43e5-9bdd-adda19f63565",
   "metadata": {},
   "source": [
    "10. Explain why strings are immutable in Python?\n",
    "    -Strings in Python are immutable for several reasons:\n",
    "\n",
    "->Efficiency in Memory Management: Immutable strings allow Python to optimize memory usage. Since strings cannot be changed, Python can reuse the same string object in multiple places without worrying about one place modifying it.\n",
    "\n",
    "->Hashing: Strings are used as keys in dictionaries, and to ensure they are unique, Python uses a hash value derived from the string. If strings were mutable, their hash values could change, which would break the integrity of hash-based collections like dictionaries and sets.\n",
    "\n",
    "->Security: Immutability helps maintain security by ensuring that string data cannot be modified by accident or malicious code. This is especially important when dealing with sensitive data.\n",
    "\n",
    "->Concurrency and Thread Safety: Immutability makes strings inherently thread-safe. Multiple threads can safely use the same string without worrying about synchronization issues, as no thread can modify the string.\n",
    "\n",
    "->Simplified Debugging: Since strings can't be modified, you don't need to track changes to them, which simplifies debugging and reasoning about code.\n",
    "\n",
    "->Consistency with Other Immutable Types: Other core Python types, like tuples, are also immutable, and strings follow the same principle to keep consistency in the language design."
   ]
  },
  {
   "cell_type": "markdown",
   "id": "e5529e53-d3c1-42dc-9b80-1400dc6ac166",
   "metadata": {},
   "source": [
    "11. What advantages do dictionaries offer over lists for certain tasks?\n",
    "    -Dictionaries offer several advantages over lists for certain tasks:\n",
    "\n",
    "->Key-Value Pair Storage: Dictionaries store data in key-value pairs, making it easier to access and manipulate values based on unique keys. Lists, on the other hand, use indices, which can be less intuitive for certain types of data.\n",
    "\n",
    "->Faster Lookup: Dictionaries provide faster access to data (average O(1) time complexity for lookups) because the key is hashed, whereas lists require linear time (O(n)) to search for an element by value.\n",
    "\n",
    "->Unique Keys: In dictionaries, each key is unique, preventing duplicate entries for the same key. This ensures data integrity for tasks where each item needs to be identified by a distinct key.\n",
    "\n",
    "->Flexible Data Structure: Dictionaries allow for more complex and flexible data storage, such as nested dictionaries or dictionaries containing lists or other data structures, which is harder to manage with lists.\n",
    "\n",
    "->Efficient Updates: Adding or updating a value in a dictionary is quicker than in a list, especially when the key is known.\n",
    "\n",
    "These advantages make dictionaries a better choice for tasks that involve quick access to values based on specific identifiers, like looking up a user's information in a database or counting occurrences of items."
   ]
  },
  {
   "cell_type": "markdown",
   "id": "cbdb5106-2a7e-4ba2-b1d7-f86391e7e1ac",
   "metadata": {},
   "source": [
    "12. Describe a scenario where using a tuple would be preferable over a list?\n",
    "    -A tuple would be preferable over a list in a scenario where the data should not be modified. For example, consider a program where you store the geographical coordinates (latitude and longitude) of a location. Since these coordinates should not change, using a tuple would ensure that the data remains immutable. If the values were stored in a list, the coordinates could be accidentally modified, leading to errors.\n",
    "\n",
    "Here’s an example:\n",
    "\n",
    "Tuple: (40.7128, -74.0060) representing the coordinates of New York City.\n",
    "\n",
    "List: [40.7128, -74.0060] where the values could accidentally be modified.\n",
    "\n",
    "In this case, a tuple is a better choice to maintain data integrity."
   ]
  },
  {
   "cell_type": "markdown",
   "id": "22d37af9-6f1a-4939-b62d-10424f761595",
   "metadata": {},
   "source": [
    "13. How do sets handle duplicate values in Python?\n",
    "    -In Python, a set automatically removes duplicate values. When you add an element to a set, it only stores unique items. If you try to add an element that already exists in the set, it will not be added again.\n",
    "\n",
    "For example:"
   ]
  },
  {
   "cell_type": "code",
   "execution_count": 14,
   "id": "a1fdef6d-3ebc-4467-bc80-469486463669",
   "metadata": {},
   "outputs": [
    {
     "name": "stdout",
     "output_type": "stream",
     "text": [
      "{1, 2, 3, 4}\n"
     ]
    }
   ],
   "source": [
    "my_set = {1, 2, 3, 3, 4}\n",
    "print(my_set)"
   ]
  },
  {
   "cell_type": "code",
   "execution_count": null,
   "id": "c7077a9f-0cf4-4da6-8266-7c06abbb238c",
   "metadata": {},
   "outputs": [],
   "source": [
    "#As you can see, the duplicate 3 is removed, and only the unique values remain."
   ]
  },
  {
   "cell_type": "markdown",
   "id": "4a57579e-4887-4650-962a-7ccc088aa9ef",
   "metadata": {},
   "source": [
    "14. How does the “in” keyword work differently for lists and dictionaries?\n",
    "    -The in keyword in Python works differently for lists and dictionaries:\n",
    "\n",
    "For lists: The in keyword checks if the value is present in the list. It returns True if the value exists in the list, and False otherwise.\n",
    "\n",
    "Example:"
   ]
  },
  {
   "cell_type": "code",
   "execution_count": null,
   "id": "03233102-b083-4d3b-9a51-e14c357257b1",
   "metadata": {},
   "outputs": [],
   "source": [
    "my_list = [1, 2, 3, 4]\n",
    "print(3 in my_list)  # True\n",
    "print(5 in my_list)  # False"
   ]
  },
  {
   "cell_type": "markdown",
   "id": "5b19266e-4330-40c5-a1ab-55ac8bd177e6",
   "metadata": {},
   "source": [
    "For dictionaries: The in keyword checks if the key is present in the dictionary, not the value. It returns True if the key exists, and False otherwise.\n",
    "\n",
    "Example:"
   ]
  },
  {
   "cell_type": "code",
   "execution_count": null,
   "id": "bb22a9d9-a74d-4ac7-a61c-111dcd0d2753",
   "metadata": {},
   "outputs": [],
   "source": [
    "my_dict = {'a': 1, 'b': 2, 'c': 3}\n",
    "print('a' in my_dict)  # True (checks key 'a')\n",
    "print(1 in my_dict)    # False (1 is a value, not a key)"
   ]
  },
  {
   "cell_type": "markdown",
   "id": "b372ccd7-9542-420b-bbc4-35588a266bff",
   "metadata": {},
   "source": [
    "To check if a value exists in the dictionary (instead of a key), you can use the .values() method:"
   ]
  },
  {
   "cell_type": "code",
   "execution_count": null,
   "id": "7f654535-997d-4de8-97ee-d64bf6b5e79f",
   "metadata": {},
   "outputs": [],
   "source": [
    "print(1 in my_dict.values())  # True (checks if 1 is a value)\n",
    "\n",
    "#So, in summary:\n",
    "\n",
    "For lists, in checks for the presence of a value.\n",
    "\n",
    "For dictionaries, in checks for the presence of a key."
   ]
  },
  {
   "cell_type": "markdown",
   "id": "6c2f5869-68d8-4f76-a094-0fd3428308d1",
   "metadata": {},
   "source": [
    "15. Can you modify the elements of a tuple? Explain why or why not?\n",
    "    -No, you cannot modify the elements of a tuple. This is because tuples are immutable in Python, meaning that once a tuple is created, its contents cannot be changed, added, or removed. If you need a collection that can be modified, you should use a list instead.\n",
    "\n",
    "However, if a tuple contains mutable elements like lists or dictionaries, those mutable elements can still be modified. But the tuple itself, as a whole, remains immutable."
   ]
  },
  {
   "cell_type": "markdown",
   "id": "d6c767be-3eb1-4df3-88d8-ed2adf1d56b3",
   "metadata": {},
   "source": [
    "16. What is a nested dictionary, and give an example of its use case?\n",
    "    -A nested dictionary is a dictionary in Python where one or more of its values are themselves dictionaries. This allows for creating complex, hierarchical data structures.\n",
    "\n",
    "Use Case:\n",
    "A common use case for a nested dictionary is when you want to store information that has multiple levels of related data. For example, a database of students and their scores in different subjects.\n",
    "Example:"
   ]
  },
  {
   "cell_type": "code",
   "execution_count": null,
   "id": "1dda87d3-7a61-4f87-bddc-61835217dba8",
   "metadata": {},
   "outputs": [],
   "source": [
    "students_scores = {\n",
    "    \"John\": {\n",
    "        \"Math\": 85,\n",
    "        \"English\": 92,\n",
    "        \"History\": 78\n",
    "    },\n",
    "    \"Alice\": {\n",
    "        \"Math\": 90,\n",
    "        \"English\": 88,\n",
    "        \"History\": 94\n",
    "    },\n",
    "    \"Bob\": {\n",
    "        \"Math\": 75,\n",
    "        \"English\": 80,\n",
    "        \"History\": 65\n",
    "    }\n",
    "}"
   ]
  },
  {
   "cell_type": "markdown",
   "id": "620c8ab4-6165-4f5c-afa6-387044263dc1",
   "metadata": {},
   "source": [
    "In this example:\n",
    "\n",
    "The outer dictionary has student names (\"John\", \"Alice\", \"Bob\") as keys.\n",
    "\n",
    "The inner dictionaries contain the subjects as keys (like \"Math\", \"English\", \"History\") and the corresponding scores as values.\n",
    "\n",
    "Accessing data:\n",
    "You can access a specific student's score in a subject like this:"
   ]
  },
  {
   "cell_type": "code",
   "execution_count": null,
   "id": "e56a8130-9552-4d7c-96bc-d84235cdf093",
   "metadata": {},
   "outputs": [],
   "source": [
    "# John's score in Math\n",
    "john_math_score = students_scores[\"John\"][\"Math\"]\n",
    "print(john_math_score)  # Output: 85\n",
    "\n",
    "#This shows how nested dictionaries can represent multi-level information."
   ]
  },
  {
   "cell_type": "markdown",
   "id": "bc100f14-fc95-4ad8-bf94-3e55eb98487d",
   "metadata": {},
   "source": [
    "17. Describe the time complexity of accessing elements in a dictionary?\n",
    "    -Accessing elements in a dictionary is typically a very fast operation, and it happens in constant time, which is represented as O(1). This means that no matter how large the dictionary gets, the time it takes to access a value associated with a key stays the same. It's like looking up a word in a dictionary—the time it takes to find a word doesn't depend on how many words are in the book. This efficiency is achieved thanks to how dictionaries are structured, using a method called hashing, which helps quickly locate the value based on the key. So, whether your dictionary has 10 or 10,000 entries, accessing an item takes roughly the same amount of time."
   ]
  },
  {
   "cell_type": "markdown",
   "id": "2ac8cb69-47d3-4476-b034-a44feaffa3af",
   "metadata": {},
   "source": [
    "18. In what situations are lists preferred over dictionaries?\n",
    "    -Lists are preferred over dictionaries in the following situations:\n",
    "\n",
    "->When order matters: Lists maintain the order of elements, so if the sequence of items is important (like in a collection of values or a queue), a list is a better choice.\n",
    "\n",
    "->When you need to store similar data: If you are dealing with a collection of items that are similar in nature (e.g., a list of numbers, names, etc.), and you don’t need to associate any specific key with the items, lists are simpler and more efficient.\n",
    "\n",
    "->When indexing is required: If you want to access elements by their position (i.e., through an index), lists are the way to go, as they allow for indexed access (e.g., my_list[0]).\n",
    "\n",
    "->When you need to perform list operations: Lists support operations like sorting, slicing, and iterating, which are often more straightforward than in dictionaries.\n",
    "\n",
    "->When space efficiency is a concern: Lists are generally more memory-efficient than dictionaries if you do not need the key-value pairs, as dictionaries require extra memory to store keys alongside values."
   ]
  },
  {
   "cell_type": "markdown",
   "id": "3b777471-1ee3-472e-8979-27fd1ef690c4",
   "metadata": {},
   "source": [
    "19. Why are dictionaries considered unordered, and how does that affect data retrieval?\n",
    "    -Dictionaries in Python are considered unordered because the items (key-value pairs) are stored in a way that does not guarantee any specific order. The underlying data structure that Python uses to implement dictionaries is a hash table, where the keys are hashed to generate a unique index. This hashing process doesn't maintain the order of insertion.\n",
    "\n",
    "How it affects data retrieval:\n",
    "Access by Key: Despite being unordered, dictionaries allow fast access to values using keys. The retrieval time for a value is generally constant (O(1) on average), thanks to the hash table structure.\n",
    "\n",
    "Iteration Order: When iterating over a dictionary, the order of items may vary. If you need a specific order, you must use methods like sorted() or store the keys in a list before iteration.\n",
    "\n",
    "Mutability and Order: Although dictionaries do not maintain insertion order by default (before Python 3.7), from Python 3.7 onwards, dictionaries maintain the insertion order as an implementation detail, but this behavior is still not guaranteed in all contexts (e.g., before Python 3.7).\n",
    "\n",
    "So, while dictionaries provide efficient key-based retrieval, if order matters (e.g., when processing items in a certain sequence), you will need additional steps to manage or ensure that order."
   ]
  },
  {
   "cell_type": "markdown",
   "id": "87bd47ae-8870-4466-b20e-01b73ea45bc0",
   "metadata": {},
   "source": [
    "20. Explain the difference between a list and a dictionary in terms of data retrieval.\n",
    "    -The main difference between a list and a dictionary in terms of data retrieval is how data is accessed:\n",
    "\n",
    "List:\n",
    "\n",
    "->Data is retrieved by indexing, which refers to the position of an element in the list.\n",
    "->Lists are ordered, meaning the elements have a specific order, and you access elements by their position (index).\n",
    "\n",
    "Example: my_list[2] would retrieve the third item (since indexing starts from 0).\n",
    "\n",
    "Dictionary:\n",
    "\n",
    "->Data is retrieved by key, not by index.\n",
    "->Dictionaries are unordered, meaning they don't maintain the order of elements. Instead, you access the data via unique keys.\n",
    "\n",
    "Example: my_dict['key'] would retrieve the value associated with the key 'key'.\n",
    "\n",
    "In summary:\n",
    "\n",
    "List: Indexed access (ordered).\n",
    "Dictionary: Key-based access (unordered)."
   ]
  },
  {
   "cell_type": "markdown",
   "id": "e54aed19-6ab7-41ab-afff-e38f66cc2dee",
   "metadata": {},
   "source": [
    "#PRACTICAL QUESTIONS:-"
   ]
  },
  {
   "cell_type": "markdown",
   "id": "173828db-0215-4aea-bf12-1a69e30f6013",
   "metadata": {},
   "source": [
    "Q1.Write a code to create a string with your name and print it."
   ]
  },
  {
   "cell_type": "code",
   "execution_count": 17,
   "id": "2506f80f-52f2-4491-bbde-571485632bec",
   "metadata": {},
   "outputs": [
    {
     "name": "stdout",
     "output_type": "stream",
     "text": [
      "Gazal\n"
     ]
    }
   ],
   "source": [
    "# Create a string with the name\n",
    "name = \"Gazal\"\n",
    "\n",
    "# Print the string\n",
    "print(name)"
   ]
  },
  {
   "cell_type": "markdown",
   "id": "6007f9a0-d441-4c89-9e7f-d94f9f6d2b46",
   "metadata": {},
   "source": [
    "Q2.Write a code to find the length of the string \"Hello World\".\n",
    "   -You can find the length of the string \"Hello World\" using the len() function in Python. Here's the code:"
   ]
  },
  {
   "cell_type": "code",
   "execution_count": 19,
   "id": "5c9ff14f-d80c-4dcf-9d08-58faa08edb47",
   "metadata": {},
   "outputs": [
    {
     "name": "stdout",
     "output_type": "stream",
     "text": [
      "The length of the string is: 11\n"
     ]
    }
   ],
   "source": [
    "# Define the string\n",
    "string = \"Hello World\"\n",
    "\n",
    "# Find the length of the string\n",
    "length = len(string)\n",
    "\n",
    "# Print the length\n",
    "print(\"The length of the string is:\", length)"
   ]
  },
  {
   "cell_type": "markdown",
   "id": "c4f3c405-d9f8-4b29-a163-3eb588579482",
   "metadata": {},
   "source": [
    "Q3.Write a code to slice the first 3 characters from the string \"Python Programming\"?"
   ]
  },
  {
   "cell_type": "code",
   "execution_count": 21,
   "id": "eff54d76-7269-41c4-8474-7604eac11776",
   "metadata": {},
   "outputs": [
    {
     "name": "stdout",
     "output_type": "stream",
     "text": [
      "Pyt\n"
     ]
    }
   ],
   "source": [
    "string = \"Python Programming\"\n",
    "sliced_string = string[:3]\n",
    "print(sliced_string)"
   ]
  },
  {
   "cell_type": "markdown",
   "id": "ebeced35-5cf0-43f2-b0f9-5eb4934b7c8a",
   "metadata": {},
   "source": [
    "Q4.Write a code to convert the string \"hello\" to uppercase.\n",
    "   - Here is a simple Python code to convert the string \"hello\" to uppercase:"
   ]
  },
  {
   "cell_type": "code",
   "execution_count": 23,
   "id": "c3fe6bc3-955a-4622-8480-91d782b08c9e",
   "metadata": {},
   "outputs": [
    {
     "name": "stdout",
     "output_type": "stream",
     "text": [
      "HELLO\n"
     ]
    }
   ],
   "source": [
    "# Original string\n",
    "text = \"hello\"\n",
    "\n",
    "# Convert to uppercase\n",
    "uppercase_text = text.upper()\n",
    "\n",
    "# Print the result\n",
    "print(uppercase_text)"
   ]
  },
  {
   "cell_type": "markdown",
   "id": "d5784155-7c98-4290-99aa-f360958c5cea",
   "metadata": {},
   "source": [
    "Q5.Write a code to replace the word \"apple\" with \"orange\" in the string \"I like apple\"?"
   ]
  },
  {
   "cell_type": "code",
   "execution_count": 25,
   "id": "dcc1900b-2460-4a72-8e88-f61d5fd88eed",
   "metadata": {},
   "outputs": [
    {
     "name": "stdout",
     "output_type": "stream",
     "text": [
      "I like orange\n"
     ]
    }
   ],
   "source": [
    "# Original string\n",
    "text = \"I like apple\"\n",
    "\n",
    "# Replacing 'apple' with 'orange'\n",
    "updated_text = text.replace(\"apple\", \"orange\")\n",
    "\n",
    "# Output the updated string\n",
    "print(updated_text)"
   ]
  },
  {
   "cell_type": "markdown",
   "id": "c7a882e8-19f0-4e33-b956-b10691aa3820",
   "metadata": {},
   "source": [
    "Q6.Write a code to create a list with numbers 1 to 5 and print it?"
   ]
  },
  {
   "cell_type": "code",
   "execution_count": 27,
   "id": "abc531fa-97e0-4942-8d0a-9f8b93bcb650",
   "metadata": {},
   "outputs": [
    {
     "name": "stdout",
     "output_type": "stream",
     "text": [
      "[1, 2, 3, 4, 5]\n"
     ]
    }
   ],
   "source": [
    "# Creating a list with numbers 1 to 5\n",
    "numbers = [1, 2, 3, 4, 5]\n",
    "\n",
    "# Printing the list\n",
    "print(numbers)"
   ]
  },
  {
   "cell_type": "markdown",
   "id": "2b47dba6-23ec-42fa-a2a0-300ee8cb1698",
   "metadata": {},
   "source": [
    "Q7. Write a code to append the number 10 to the list [1, 2, 3, 4]?"
   ]
  },
  {
   "cell_type": "code",
   "execution_count": 29,
   "id": "b278fd0b-f23f-475f-8611-215c835b4872",
   "metadata": {},
   "outputs": [
    {
     "name": "stdout",
     "output_type": "stream",
     "text": [
      "[1, 2, 3, 4, 10]\n"
     ]
    }
   ],
   "source": [
    "# Original list\n",
    "numbers = [1, 2, 3, 4]\n",
    "\n",
    "# Appending 10 to the list\n",
    "numbers.append(10)\n",
    "\n",
    "# Printing the updated list\n",
    "print(numbers)"
   ]
  },
  {
   "cell_type": "markdown",
   "id": "ea131bcb-2004-4c0a-9135-7cc297fa8238",
   "metadata": {},
   "source": [
    "Q8.Write a code to remove the number 3 from the list [1, 2, 3, 4, 5]?"
   ]
  },
  {
   "cell_type": "code",
   "execution_count": 31,
   "id": "a22fd6a2-e84c-46a3-997d-a14d8c6888c9",
   "metadata": {},
   "outputs": [
    {
     "name": "stdout",
     "output_type": "stream",
     "text": [
      "[1, 2, 4, 5]\n"
     ]
    }
   ],
   "source": [
    "# Original list\n",
    "numbers = [1, 2, 3, 4, 5]\n",
    "\n",
    "# Removing the number 3\n",
    "numbers.remove(3)\n",
    "\n",
    "# Printing the updated list\n",
    "print(numbers)"
   ]
  },
  {
   "cell_type": "markdown",
   "id": "6c13a760-5617-4f3a-9d49-a29ab60b38c8",
   "metadata": {},
   "source": [
    "Q9.Write a code to access the second element in the list ['a', 'b', 'c', 'd']?"
   ]
  },
  {
   "cell_type": "code",
   "execution_count": 33,
   "id": "8275bdf3-9b08-4de2-a516-17f5f355abb7",
   "metadata": {},
   "outputs": [
    {
     "name": "stdout",
     "output_type": "stream",
     "text": [
      "b\n"
     ]
    }
   ],
   "source": [
    "# Original list\n",
    "letters = ['a', 'b', 'c', 'd']\n",
    "\n",
    "# Accessing the second element (index 1)\n",
    "second_element = letters[1]\n",
    "\n",
    "# Printing the second element\n",
    "print(second_element)"
   ]
  },
  {
   "cell_type": "markdown",
   "id": "406ce129-be9e-48c9-83c2-00b62e48868c",
   "metadata": {},
   "source": [
    "Q10.Write a code to reverse the list [10, 20, 30, 40, 50]?"
   ]
  },
  {
   "cell_type": "code",
   "execution_count": 35,
   "id": "90655a76-2ebe-4e3e-8cce-457074961a87",
   "metadata": {},
   "outputs": [
    {
     "name": "stdout",
     "output_type": "stream",
     "text": [
      "[50, 40, 30, 20, 10]\n"
     ]
    }
   ],
   "source": [
    "# Original list\n",
    "numbers = [10, 20, 30, 40, 50]\n",
    "\n",
    "# Reversing the list\n",
    "numbers.reverse()\n",
    "\n",
    "# Printing the reversed list\n",
    "print(numbers)"
   ]
  },
  {
   "cell_type": "markdown",
   "id": "8ed37eba-b14c-4f9f-b0db-5d8572004080",
   "metadata": {},
   "source": [
    "Q11. Write a code to create a tuple with the elements 100, 200, 300 and print it."
   ]
  },
  {
   "cell_type": "code",
   "execution_count": 37,
   "id": "3506a3b2-fff0-4308-8273-d82fe83657ac",
   "metadata": {},
   "outputs": [
    {
     "name": "stdout",
     "output_type": "stream",
     "text": [
      "(100, 200, 300)\n"
     ]
    }
   ],
   "source": [
    "# Creating a tuple\n",
    "my_tuple = (100, 200, 300)\n",
    "\n",
    "# Printing the tuple\n",
    "print(my_tuple)"
   ]
  },
  {
   "cell_type": "markdown",
   "id": "f14b09b0-9e0a-4180-ba9e-faa69932db97",
   "metadata": {},
   "source": [
    "Q12.Write a code to access the second-to-last element of the tuple ('red', 'green', 'blue',\n",
    "'yellow')."
   ]
  },
  {
   "cell_type": "code",
   "execution_count": 39,
   "id": "c4add844-74fd-4842-a98e-6ebacd3f62cf",
   "metadata": {},
   "outputs": [
    {
     "name": "stdout",
     "output_type": "stream",
     "text": [
      "blue\n"
     ]
    }
   ],
   "source": [
    "# Original tuple\n",
    "colors = ('red', 'green', 'blue', 'yellow')\n",
    "\n",
    "# Accessing the second-to-last element\n",
    "second_to_last = colors[-2]\n",
    "\n",
    "# Printing the element\n",
    "print(second_to_last)"
   ]
  },
  {
   "cell_type": "markdown",
   "id": "cc3b822f-b907-4baf-aafd-2aedcf2a00bd",
   "metadata": {},
   "source": [
    "Q13.Write a code to find the minimum number in the tuple (10, 20, 5, 15)."
   ]
  },
  {
   "cell_type": "code",
   "execution_count": 41,
   "id": "6060e63d-94ad-452e-b7b0-55198c1c42b4",
   "metadata": {},
   "outputs": [
    {
     "name": "stdout",
     "output_type": "stream",
     "text": [
      "5\n"
     ]
    }
   ],
   "source": [
    "# Original tuple\n",
    "numbers = (10, 20, 5, 15)\n",
    "\n",
    "# Finding the minimum number\n",
    "min_number = min(numbers)\n",
    "\n",
    "# Printing the minimum number\n",
    "print(min_number)"
   ]
  },
  {
   "cell_type": "markdown",
   "id": "bb2b1bb1-42ec-439a-bd76-9873e695bdbf",
   "metadata": {},
   "source": [
    "Q14.Write a code to find the index of the element \"cat\" in the tuple ('dog', 'cat', 'rabbit')."
   ]
  },
  {
   "cell_type": "code",
   "execution_count": 43,
   "id": "f794c9f6-8e3b-4b17-afbb-b2d8ba7e1e3e",
   "metadata": {},
   "outputs": [
    {
     "name": "stdout",
     "output_type": "stream",
     "text": [
      "1\n"
     ]
    }
   ],
   "source": [
    "# Original tuple\n",
    "animals = ('dog', 'cat', 'rabbit')\n",
    "\n",
    "# Finding the index of \"cat\"\n",
    "index_of_cat = animals.index('cat')\n",
    "\n",
    "# Printing the index\n",
    "print(index_of_cat)"
   ]
  },
  {
   "cell_type": "markdown",
   "id": "ca6b6edd-c8ce-4eae-ba20-961375f1c551",
   "metadata": {},
   "source": [
    "Q15.Write a code to create a tuple containing three different fruits and check if \"kiwi\" is in it"
   ]
  },
  {
   "cell_type": "code",
   "execution_count": 45,
   "id": "4512187b-0f77-4851-8fef-16a2a8eca10d",
   "metadata": {},
   "outputs": [
    {
     "name": "stdout",
     "output_type": "stream",
     "text": [
      "Kiwi is not in the tuple.\n"
     ]
    }
   ],
   "source": [
    "# Creating a tuple with fruits\n",
    "fruits = ('apple', 'banana', 'mango')\n",
    "\n",
    "# Checking if \"kiwi\" is in the tuple\n",
    "if 'kiwi' in fruits:\n",
    "    print(\"Kiwi is in the tuple.\")\n",
    "else:\n",
    "    print(\"Kiwi is not in the tuple.\")"
   ]
  },
  {
   "cell_type": "markdown",
   "id": "085d2bc3-6cc7-49be-ad97-390f8333992c",
   "metadata": {},
   "source": [
    "Q16. Write a code to create a set with the elements 'a', 'b', 'c' and print it."
   ]
  },
  {
   "cell_type": "code",
   "execution_count": 47,
   "id": "ab8936b6-dc6d-4126-a560-70276ae5ab57",
   "metadata": {},
   "outputs": [
    {
     "name": "stdout",
     "output_type": "stream",
     "text": [
      "{'a', 'c', 'b'}\n"
     ]
    }
   ],
   "source": [
    "# Creating a set with elements 'a', 'b', and 'c'\n",
    "my_set = {'a', 'b', 'c'}\n",
    "\n",
    "# Printing the set\n",
    "print(my_set)"
   ]
  },
  {
   "cell_type": "markdown",
   "id": "e5711291-d510-4fea-9018-368895099671",
   "metadata": {},
   "source": [
    "Q17.Write a code to clear all elements from the set {1, 2, 3, 4, 5}"
   ]
  },
  {
   "cell_type": "code",
   "execution_count": 49,
   "id": "074338d7-feb3-44b0-bf47-c96514f6d149",
   "metadata": {},
   "outputs": [
    {
     "name": "stdout",
     "output_type": "stream",
     "text": [
      "set()\n"
     ]
    }
   ],
   "source": [
    "# Original set\n",
    "my_set = {1, 2, 3, 4, 5}\n",
    "\n",
    "# Clearing all elements from the set\n",
    "my_set.clear()\n",
    "\n",
    "# Printing the cleared set\n",
    "print(my_set)"
   ]
  },
  {
   "cell_type": "markdown",
   "id": "b664abe6-3f5d-49c9-ab2c-0db01cf99750",
   "metadata": {},
   "source": [
    "Q18.Wrie a code to remove the element 4 from the set {1, 2, 3, 4}."
   ]
  },
  {
   "cell_type": "code",
   "execution_count": 51,
   "id": "1d455683-ae39-46aa-879a-348a30a99d23",
   "metadata": {},
   "outputs": [
    {
     "name": "stdout",
     "output_type": "stream",
     "text": [
      "{1, 2, 3}\n"
     ]
    }
   ],
   "source": [
    "# Original set\n",
    "my_set = {1, 2, 3, 4}\n",
    "\n",
    "# Removing the element 4\n",
    "my_set.remove(4)\n",
    "\n",
    "# Printing the updated set\n",
    "print(my_set)"
   ]
  },
  {
   "cell_type": "markdown",
   "id": "5297a24c-6b1b-474a-a1ba-493eada66f9a",
   "metadata": {},
   "source": [
    "Q19.Write a code to find the union of two sets {1, 2, 3} and {3, 4, 5}"
   ]
  },
  {
   "cell_type": "code",
   "execution_count": 53,
   "id": "b3fb9c1f-60fd-4739-9981-550bc6434deb",
   "metadata": {},
   "outputs": [
    {
     "name": "stdout",
     "output_type": "stream",
     "text": [
      "{1, 2, 3, 4, 5}\n"
     ]
    }
   ],
   "source": [
    "# Defining the sets\n",
    "set1 = {1, 2, 3}\n",
    "set2 = {3, 4, 5}\n",
    "\n",
    "# Finding the union of the two sets\n",
    "union_set = set1.union(set2)\n",
    "\n",
    "# Printing the union\n",
    "print(union_set)"
   ]
  },
  {
   "cell_type": "markdown",
   "id": "df21213d-8a6c-40e9-ada7-b77283961669",
   "metadata": {},
   "source": [
    "Q20. Write a code to find the intersection of two sets {1, 2, 3} and {2, 3, 4}."
   ]
  },
  {
   "cell_type": "code",
   "execution_count": 55,
   "id": "ecedfac3-e2db-4265-a317-7ec87427a9f6",
   "metadata": {},
   "outputs": [
    {
     "name": "stdout",
     "output_type": "stream",
     "text": [
      "{2, 3}\n"
     ]
    }
   ],
   "source": [
    "# Defining the sets\n",
    "set1 = {1, 2, 3}\n",
    "set2 = {2, 3, 4}\n",
    "\n",
    "# Finding the intersection of the two sets\n",
    "intersection_set = set1.intersection(set2)\n",
    "\n",
    "# Printing the intersection\n",
    "print(intersection_set)"
   ]
  },
  {
   "cell_type": "markdown",
   "id": "312b1230-bd60-4e51-baf2-f141b79faed0",
   "metadata": {},
   "source": [
    "Q21.Write a code to create a dictionary with the keys \"name\", \"age\", and \"city\", and print it."
   ]
  },
  {
   "cell_type": "code",
   "execution_count": 57,
   "id": "2aa83fb8-f8b9-4228-9add-c8d9547b4838",
   "metadata": {},
   "outputs": [
    {
     "name": "stdout",
     "output_type": "stream",
     "text": [
      "{'name': 'John', 'age': 30, 'city': 'New York'}\n"
     ]
    }
   ],
   "source": [
    "# Creating the dictionary\n",
    "person = {\n",
    "    \"name\": \"John\",\n",
    "    \"age\": 30,\n",
    "    \"city\": \"New York\"\n",
    "}\n",
    "\n",
    "# Printing the dictionary\n",
    "print(person)"
   ]
  },
  {
   "cell_type": "markdown",
   "id": "d7300add-b751-4fe5-99aa-f756249e6878",
   "metadata": {},
   "source": [
    "Q22.Write a code to add a new key-value pair \"country\": \"USA\" to the dictionary {'name': 'John',\n",
    "'age': 25}."
   ]
  },
  {
   "cell_type": "code",
   "execution_count": 59,
   "id": "d3539452-6f15-4e96-9255-945c4966bd42",
   "metadata": {},
   "outputs": [
    {
     "name": "stdout",
     "output_type": "stream",
     "text": [
      "{'name': 'John', 'age': 25, 'country': 'USA'}\n"
     ]
    }
   ],
   "source": [
    "# Original dictionary\n",
    "person = {'name': 'John', 'age': 25}\n",
    "\n",
    "# Adding the new key-value pair\n",
    "person['country'] = 'USA'\n",
    "\n",
    "# Printing the updated dictionary\n",
    "print(person)"
   ]
  },
  {
   "cell_type": "markdown",
   "id": "09aa84ab-03c8-4b6d-8fcd-f08e13a370e7",
   "metadata": {},
   "source": [
    "Q23. Write a code to access the value associated with the key \"name\" in the dictionary {'name':\n",
    "'Alice', 'age': 30}"
   ]
  },
  {
   "cell_type": "code",
   "execution_count": 61,
   "id": "dfa8cc9c-f05d-451b-b5d1-2fb6286d0373",
   "metadata": {},
   "outputs": [
    {
     "name": "stdout",
     "output_type": "stream",
     "text": [
      "Alice\n"
     ]
    }
   ],
   "source": [
    "# Original dictionary\n",
    "person = {'name': 'Alice', 'age': 30}\n",
    "\n",
    "# Accessing the value associated with the key \"name\"\n",
    "name_value = person['name']\n",
    "\n",
    "# Printing the value\n",
    "print(name_value)"
   ]
  },
  {
   "cell_type": "markdown",
   "id": "edecda86-562e-4016-81e1-04df9c8bad0b",
   "metadata": {},
   "source": [
    "Q24.Write a code to remove the key \"age\" from the dictionary {'name': 'Bob', 'age': 22, 'city':\n",
    "'New York'}."
   ]
  },
  {
   "cell_type": "code",
   "execution_count": 63,
   "id": "c57850d2-be51-464b-8a05-dc907aec67c5",
   "metadata": {},
   "outputs": [
    {
     "name": "stdout",
     "output_type": "stream",
     "text": [
      "{'name': 'Bob', 'city': 'New York'}\n"
     ]
    }
   ],
   "source": [
    "# Original dictionary\n",
    "person = {'name': 'Bob', 'age': 22, 'city': 'New York'}\n",
    "\n",
    "# Removing the key \"age\"\n",
    "del person['age']\n",
    "\n",
    "# Printing the updated dictionary\n",
    "print(person)"
   ]
  },
  {
   "cell_type": "markdown",
   "id": "da418f05-b5eb-4cde-9bb6-f2bbcd466b33",
   "metadata": {},
   "source": [
    "Q25.Write a code to check if the key \"city\" exists in the dictionary {'name': 'Alice', 'city': 'Paris'}"
   ]
  },
  {
   "cell_type": "markdown",
   "id": "b338c50f-989a-41ab-9c35-4315251df30b",
   "metadata": {},
   "source": [
    "# Original dictionary\n",
    "person = {'name': 'Alice', 'city': 'Paris'}\n",
    "\n",
    "# Checking if the key \"city\" exists in the dictionary\n",
    "if 'city' in person:\n",
    "    print(\"The key 'city' exists in the dictionary.\")\n",
    "else:\n",
    "    print(\"The key 'city' does not exist in the dictionary.\")"
   ]
  },
  {
   "cell_type": "markdown",
   "id": "324a9e16-0efd-4f4a-8313-5cf0427192cc",
   "metadata": {},
   "source": [
    "Q26.Write a code to create a list, a tuple, and a dictionary, and print them all."
   ]
  },
  {
   "cell_type": "code",
   "execution_count": 67,
   "id": "9a0f4fb3-18d7-4a83-8d74-b13f586b946f",
   "metadata": {},
   "outputs": [
    {
     "name": "stdout",
     "output_type": "stream",
     "text": [
      "List: [1, 2, 3, 4, 5]\n",
      "Tuple: ('apple', 'banana', 'cherry')\n",
      "Dictionary: {'name': 'John', 'age': 30, 'city': 'New York'}\n"
     ]
    }
   ],
   "source": [
    "# Creating a list\n",
    "my_list = [1, 2, 3, 4, 5]\n",
    "\n",
    "# Creating a tuple\n",
    "my_tuple = ('apple', 'banana', 'cherry')\n",
    "\n",
    "# Creating a dictionary\n",
    "my_dict = {'name': 'John', 'age': 30, 'city': 'New York'}\n",
    "\n",
    "# Printing all the structures\n",
    "print(\"List:\", my_list)\n",
    "print(\"Tuple:\", my_tuple)\n",
    "print(\"Dictionary:\", my_dict)"
   ]
  },
  {
   "cell_type": "code",
   "execution_count": null,
   "id": "4a2d9ab9-7304-451c-a7b8-0644625e8870",
   "metadata": {},
   "outputs": [],
   "source": [
    "Q27.Write a code to create a list of 5 random numbers between 1 and 100, sort it in ascending\n",
    "order, and print the result.(replaced)"
   ]
  },
  {
   "cell_type": "code",
   "execution_count": 69,
   "id": "c36bf7e0-3d5a-4c5a-b040-2ee26b1a6cde",
   "metadata": {},
   "outputs": [
    {
     "name": "stdout",
     "output_type": "stream",
     "text": [
      "[68, 72, 79, 96, 97]\n"
     ]
    }
   ],
   "source": [
    "import random\n",
    "\n",
    "# Creating a list of 5 random numbers between 1 and 100\n",
    "random_numbers = [random.randint(1, 100) for _ in range(5)]\n",
    "\n",
    "# Sorting the list in ascending order\n",
    "random_numbers.sort()\n",
    "\n",
    "# Printing the sorted list\n",
    "print(random_numbers)"
   ]
  },
  {
   "cell_type": "markdown",
   "id": "64bfba81-cd2d-4006-931d-e7f4b749e14e",
   "metadata": {},
   "source": [
    "Q28.Write a code to create a list with strings and print the element at the third index"
   ]
  },
  {
   "cell_type": "code",
   "execution_count": 71,
   "id": "1932fe8d-08f7-402d-9108-9b0f5de3782c",
   "metadata": {},
   "outputs": [
    {
     "name": "stdout",
     "output_type": "stream",
     "text": [
      "date\n"
     ]
    }
   ],
   "source": [
    "# Creating a list with strings\n",
    "my_list = [\"apple\", \"banana\", \"cherry\", \"date\", \"elderberry\"]\n",
    "\n",
    "# Printing the element at the third index (4th element)\n",
    "print(my_list[3])"
   ]
  },
  {
   "cell_type": "markdown",
   "id": "85b2b760-69a6-4f77-9873-36d88839a4d3",
   "metadata": {},
   "source": [
    "Q29.Write a code to combine two dictionaries into one and print the result"
   ]
  },
  {
   "cell_type": "code",
   "execution_count": 73,
   "id": "0e58809a-35c2-4c6b-bff6-6421c80f461b",
   "metadata": {},
   "outputs": [
    {
     "name": "stdout",
     "output_type": "stream",
     "text": [
      "{'name': 'Alice', 'age': 25, 'city': 'Paris', 'country': 'France'}\n"
     ]
    }
   ],
   "source": [
    "# Creating two dictionaries\n",
    "dict1 = {'name': 'Alice', 'age': 25}\n",
    "dict2 = {'city': 'Paris', 'country': 'France'}\n",
    "\n",
    "# Combining the two dictionaries\n",
    "combined_dict = {**dict1, **dict2}\n",
    "\n",
    "# Printing the combined dictionary\n",
    "print(combined_dict)"
   ]
  },
  {
   "cell_type": "markdown",
   "id": "d3f3b7c2-959e-42dd-9aac-6b880dd6b9ad",
   "metadata": {},
   "source": [
    "Q30.Write a code to convert a list of strings into a set"
   ]
  },
  {
   "cell_type": "code",
   "execution_count": 75,
   "id": "1128e062-16bd-4cc9-8fd5-8a8910c34728",
   "metadata": {},
   "outputs": [
    {
     "name": "stdout",
     "output_type": "stream",
     "text": [
      "{'apple', 'cherry', 'banana'}\n"
     ]
    }
   ],
   "source": [
    "# Creating a list of strings\n",
    "string_list = [\"apple\", \"banana\", \"cherry\", \"apple\"]\n",
    "\n",
    "# Converting the list into a set\n",
    "string_set = set(string_list)\n",
    "\n",
    "# Printing the set\n",
    "print(string_set)"
   ]
  },
  {
   "cell_type": "markdown",
   "id": "1dcc7397-0da0-4dde-b0bc-82602b019c2a",
   "metadata": {},
   "source": [
    "#END"
   ]
  }
 ],
 "metadata": {
  "kernelspec": {
   "display_name": "Python 3 (ipykernel)",
   "language": "python",
   "name": "python3"
  },
  "language_info": {
   "codemirror_mode": {
    "name": "ipython",
    "version": 3
   },
   "file_extension": ".py",
   "mimetype": "text/x-python",
   "name": "python",
   "nbconvert_exporter": "python",
   "pygments_lexer": "ipython3",
   "version": "3.12.7"
  }
 },
 "nbformat": 4,
 "nbformat_minor": 5
}
